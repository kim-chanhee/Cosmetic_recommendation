{
 "cells": [
  {
   "cell_type": "code",
   "execution_count": 174,
   "metadata": {},
   "outputs": [],
   "source": [
    "import pandas as pd\n",
    "import numpy as np\n",
    "# CSV 파일 불러오기\n",
    "senti_df = pd.read_csv(\"/Users/Shared/최종선_교수님/Face_skin_disease/감성분석/감성사전/senti_labeled_df.csv\")\n",
    "ntoken_df = pd.read_csv(\"/Users/Shared/최종선_교수님/Face_skin_disease/데이터 전처리/Ntoken_review.csv\")\n"
   ]
  },
  {
   "cell_type": "code",
   "execution_count": 175,
   "metadata": {},
   "outputs": [
    {
     "name": "stdout",
     "output_type": "stream",
     "text": [
      "<class 'pandas.core.frame.DataFrame'>\n",
      "RangeIndex: 1094 entries, 0 to 1093\n",
      "Data columns (total 5 columns):\n",
      " #   Column       Non-Null Count  Dtype  \n",
      "---  ------       --------------  -----  \n",
      " 0   sen          1094 non-null   object \n",
      " 1   pos_neg      1094 non-null   float64\n",
      " 2   sen2         1094 non-null   object \n",
      " 3   senti_score  1094 non-null   int64  \n",
      " 4   pred         1094 non-null   int64  \n",
      "dtypes: float64(1), int64(2), object(2)\n",
      "memory usage: 42.9+ KB\n"
     ]
    }
   ],
   "source": [
    "senti_df.info()"
   ]
  },
  {
   "cell_type": "code",
   "execution_count": 176,
   "metadata": {},
   "outputs": [
    {
     "name": "stdout",
     "output_type": "stream",
     "text": [
      "<class 'pandas.core.frame.DataFrame'>\n",
      "RangeIndex: 1094 entries, 0 to 1093\n",
      "Data columns (total 11 columns):\n",
      " #   Column          Non-Null Count  Dtype \n",
      "---  ------          --------------  ----- \n",
      " 0   product_name    1094 non-null   object\n",
      " 1   reviewer_id     1094 non-null   object\n",
      " 2   skin_type       606 non-null    object\n",
      " 3   skin_tone       480 non-null    object\n",
      " 4   skin_concern_1  470 non-null    object\n",
      " 5   skin_concern_2  380 non-null    object\n",
      " 6   rating          1094 non-null   int64 \n",
      " 7   review_date     1094 non-null   object\n",
      " 8   review          1094 non-null   object\n",
      " 9   tokens          1094 non-null   object\n",
      " 10  Ntoken_review   1094 non-null   object\n",
      "dtypes: int64(1), object(10)\n",
      "memory usage: 94.1+ KB\n"
     ]
    }
   ],
   "source": [
    "ntoken_df.info()"
   ]
  },
  {
   "cell_type": "code",
   "execution_count": 177,
   "metadata": {},
   "outputs": [
    {
     "name": "stdout",
     "output_type": "stream",
     "text": [
      "병합 완료! merged_output.csv 생성됨.\n"
     ]
    }
   ],
   "source": [
    "# senti_labeled_df.csv 의 pred 열만 추출\n",
    "pred_col = senti_df[[\"pred\"]]\n",
    "\n",
    "# 두 데이터프레임 합치기 (인덱스 기준)\n",
    "merged_df = pd.concat([ntoken_df, pred_col], axis=1)\n",
    "\n",
    "# 결과 저장\n",
    "merged_df.to_csv(\"merged_output.csv\", index=False)\n",
    "\n",
    "print(\"병합 완료! merged_output.csv 생성됨.\")"
   ]
  },
  {
   "cell_type": "code",
   "execution_count": 178,
   "metadata": {},
   "outputs": [
    {
     "data": {
      "text/html": [
       "<div>\n",
       "<style scoped>\n",
       "    .dataframe tbody tr th:only-of-type {\n",
       "        vertical-align: middle;\n",
       "    }\n",
       "\n",
       "    .dataframe tbody tr th {\n",
       "        vertical-align: top;\n",
       "    }\n",
       "\n",
       "    .dataframe thead th {\n",
       "        text-align: right;\n",
       "    }\n",
       "</style>\n",
       "<table border=\"1\" class=\"dataframe\">\n",
       "  <thead>\n",
       "    <tr style=\"text-align: right;\">\n",
       "      <th></th>\n",
       "      <th>product_name</th>\n",
       "      <th>reviewer_id</th>\n",
       "      <th>skin_type</th>\n",
       "      <th>skin_tone</th>\n",
       "      <th>skin_concern_1</th>\n",
       "      <th>skin_concern_2</th>\n",
       "      <th>rating</th>\n",
       "      <th>review_date</th>\n",
       "      <th>review</th>\n",
       "      <th>tokens</th>\n",
       "      <th>Ntoken_review</th>\n",
       "      <th>pred</th>\n",
       "    </tr>\n",
       "  </thead>\n",
       "  <tbody>\n",
       "    <tr>\n",
       "      <th>0</th>\n",
       "      <td>닥터지 더모이스처 배리어D 인텐스 크림</td>\n",
       "      <td>리리578</td>\n",
       "      <td>건성</td>\n",
       "      <td>봄웜톤</td>\n",
       "      <td>모공</td>\n",
       "      <td>미백</td>\n",
       "      <td>5</td>\n",
       "      <td>2025.07.24</td>\n",
       "      <td>닥터지 더모이스처 배리어  인텐스크림   제가 이 제품을 사용하고 이렇게 오랜기간...</td>\n",
       "      <td>[('닥터', 'NNP'), ('지', 'NNB'), ('더', 'MAG'), ('...</td>\n",
       "      <td>['닥터', '이스', '리어', '스크림', '제가', '제품', '사용', '기...</td>\n",
       "      <td>0</td>\n",
       "    </tr>\n",
       "    <tr>\n",
       "      <th>1</th>\n",
       "      <td>닥터지 더모이스처 배리어D 인텐스 크림</td>\n",
       "      <td>김츄츄</td>\n",
       "      <td>건성</td>\n",
       "      <td>겨울쿨톤</td>\n",
       "      <td>각질</td>\n",
       "      <td>아토피</td>\n",
       "      <td>5</td>\n",
       "      <td>2025.07.27</td>\n",
       "      <td>악건성인데 화장하기 전에 무조건 바르는 크림입니다  화장 잘 뜨고 각질 많이 일어나...</td>\n",
       "      <td>[('악건성', 'NNG'), ('이', 'VCP'), ('ㄴ데', 'EC'), (...</td>\n",
       "      <td>['악건성', '화장', '크림', '화장', '각질', '건성', '정말', '정...</td>\n",
       "      <td>0</td>\n",
       "    </tr>\n",
       "    <tr>\n",
       "      <th>2</th>\n",
       "      <td>닥터지 더모이스처 배리어D 인텐스 크림</td>\n",
       "      <td>화사한웜코덕</td>\n",
       "      <td>NaN</td>\n",
       "      <td>NaN</td>\n",
       "      <td>NaN</td>\n",
       "      <td>NaN</td>\n",
       "      <td>5</td>\n",
       "      <td>2025.05.31</td>\n",
       "      <td>현직메컵아티스트입니다이거 안맞는 분 한번도 못봤어용 기초할때 선크림 직전에 발라주고...</td>\n",
       "      <td>[('현직', 'NNG'), ('메', 'NNG'), ('컵', 'NNG'), ('...</td>\n",
       "      <td>['현직', '아티스트', '기초', '선크림', '직전', '흡수', '선크림',...</td>\n",
       "      <td>0</td>\n",
       "    </tr>\n",
       "    <tr>\n",
       "      <th>3</th>\n",
       "      <td>닥터지 더모이스처 배리어D 인텐스 크림</td>\n",
       "      <td>앙정</td>\n",
       "      <td>건성</td>\n",
       "      <td>봄웜톤</td>\n",
       "      <td>모공</td>\n",
       "      <td>잡티</td>\n",
       "      <td>5</td>\n",
       "      <td>2025.06.22</td>\n",
       "      <td>보습 필요할때 사용하고 있어요가볍게 바르기 좋고 보습을 필요로할때는 듬뿍 발라주고 있어요</td>\n",
       "      <td>[('보습', 'NNG'), ('필요', 'NNG'), ('하', 'XSV'), (...</td>\n",
       "      <td>['보습', '필요', '사용', '보습', '필요']</td>\n",
       "      <td>1</td>\n",
       "    </tr>\n",
       "    <tr>\n",
       "      <th>4</th>\n",
       "      <td>닥터지 더모이스처 배리어D 인텐스 크림</td>\n",
       "      <td>mimilike</td>\n",
       "      <td>건성</td>\n",
       "      <td>웜톤</td>\n",
       "      <td>각질</td>\n",
       "      <td>주름</td>\n",
       "      <td>4</td>\n",
       "      <td>2025.07.11</td>\n",
       "      <td>다른 크림들과 비교해서 확실히 가려움에 효과가 있어요  그래서 저는 아토피 올라오는...</td>\n",
       "      <td>[('다른', 'MM'), ('크림', 'NNG'), ('들', 'XSN'), ('...</td>\n",
       "      <td>['크림', '비교', '가려움', '효과', '아토피', '부분', '세라마이드'...</td>\n",
       "      <td>0</td>\n",
       "    </tr>\n",
       "  </tbody>\n",
       "</table>\n",
       "</div>"
      ],
      "text/plain": [
       "                                product_name reviewer_id skin_type skin_tone  \\\n",
       "0  닥터지 더모이스처 배리어D 인텐스 크림       리리578        건성       봄웜톤   \n",
       "1  닥터지 더모이스처 배리어D 인텐스 크림         김츄츄        건성      겨울쿨톤   \n",
       "2  닥터지 더모이스처 배리어D 인텐스 크림      화사한웜코덕       NaN       NaN   \n",
       "3  닥터지 더모이스처 배리어D 인텐스 크림          앙정        건성       봄웜톤   \n",
       "4  닥터지 더모이스처 배리어D 인텐스 크림    mimilike        건성        웜톤   \n",
       "\n",
       "  skin_concern_1 skin_concern_2  rating review_date  \\\n",
       "0             모공             미백       5  2025.07.24   \n",
       "1             각질            아토피       5  2025.07.27   \n",
       "2            NaN            NaN       5  2025.05.31   \n",
       "3             모공             잡티       5  2025.06.22   \n",
       "4             각질             주름       4  2025.07.11   \n",
       "\n",
       "                                              review  \\\n",
       "0   닥터지 더모이스처 배리어  인텐스크림   제가 이 제품을 사용하고 이렇게 오랜기간...   \n",
       "1  악건성인데 화장하기 전에 무조건 바르는 크림입니다  화장 잘 뜨고 각질 많이 일어나...   \n",
       "2  현직메컵아티스트입니다이거 안맞는 분 한번도 못봤어용 기초할때 선크림 직전에 발라주고...   \n",
       "3  보습 필요할때 사용하고 있어요가볍게 바르기 좋고 보습을 필요로할때는 듬뿍 발라주고 있어요   \n",
       "4  다른 크림들과 비교해서 확실히 가려움에 효과가 있어요  그래서 저는 아토피 올라오는...   \n",
       "\n",
       "                                              tokens  \\\n",
       "0  [('닥터', 'NNP'), ('지', 'NNB'), ('더', 'MAG'), ('...   \n",
       "1  [('악건성', 'NNG'), ('이', 'VCP'), ('ㄴ데', 'EC'), (...   \n",
       "2  [('현직', 'NNG'), ('메', 'NNG'), ('컵', 'NNG'), ('...   \n",
       "3  [('보습', 'NNG'), ('필요', 'NNG'), ('하', 'XSV'), (...   \n",
       "4  [('다른', 'MM'), ('크림', 'NNG'), ('들', 'XSN'), ('...   \n",
       "\n",
       "                                       Ntoken_review  pred  \n",
       "0  ['닥터', '이스', '리어', '스크림', '제가', '제품', '사용', '기...     0  \n",
       "1  ['악건성', '화장', '크림', '화장', '각질', '건성', '정말', '정...     0  \n",
       "2  ['현직', '아티스트', '기초', '선크림', '직전', '흡수', '선크림',...     0  \n",
       "3                     ['보습', '필요', '사용', '보습', '필요']     1  \n",
       "4  ['크림', '비교', '가려움', '효과', '아토피', '부분', '세라마이드'...     0  "
      ]
     },
     "execution_count": 178,
     "metadata": {},
     "output_type": "execute_result"
    }
   ],
   "source": [
    "merged_df.head()"
   ]
  },
  {
   "cell_type": "code",
   "execution_count": 179,
   "metadata": {},
   "outputs": [
    {
     "data": {
      "text/plain": [
       "(5, 2, 1094)"
      ]
     },
     "execution_count": 179,
     "metadata": {},
     "output_type": "execute_result"
    }
   ],
   "source": [
    "merged_df['rating'].nunique(), merged_df['pred'].nunique(), merged_df['review'].nunique()"
   ]
  },
  {
   "cell_type": "code",
   "execution_count": 180,
   "metadata": {},
   "outputs": [
    {
     "name": "stdout",
     "output_type": "stream",
     "text": [
      "훈련 데이터 크기: 875\n",
      "테스트 데이터 크기: 219\n"
     ]
    }
   ],
   "source": [
    "from sklearn.model_selection import train_test_split\n",
    "\n",
    "train_data, test_data = train_test_split(merged_df, test_size=0.2, random_state=111)\n",
    "print(f\"훈련 데이터 크기: {len(train_data)}\")\n",
    "print(f\"테스트 데이터 크기: {len(test_data)}\")\n",
    " "
   ]
  },
  {
   "cell_type": "markdown",
   "metadata": {},
   "source": [
    "### 레이블의 분포 확인"
   ]
  },
  {
   "cell_type": "code",
   "execution_count": 181,
   "metadata": {},
   "outputs": [
    {
     "data": {
      "text/plain": [
       "<Axes: title={'center': 'Train Data Label Distribution'}, xlabel='pred'>"
      ]
     },
     "execution_count": 181,
     "metadata": {},
     "output_type": "execute_result"
    },
    {
     "data": {
      "image/png": "[encoded data removed]",
      "text/plain": [
       "<Figure size 640x480 with 1 Axes>"
      ]
     },
     "metadata": {},
     "output_type": "display_data"
    }
   ],
   "source": [
    "train_data['pred'].value_counts().plot(kind='bar', title='Train Data Label Distribution')"
   ]
  },
  {
   "cell_type": "code",
   "execution_count": 182,
   "metadata": {},
   "outputs": [
    {
     "data": {
      "text/html": [
       "<div>\n",
       "<style scoped>\n",
       "    .dataframe tbody tr th:only-of-type {\n",
       "        vertical-align: middle;\n",
       "    }\n",
       "\n",
       "    .dataframe tbody tr th {\n",
       "        vertical-align: top;\n",
       "    }\n",
       "\n",
       "    .dataframe thead th {\n",
       "        text-align: right;\n",
       "    }\n",
       "</style>\n",
       "<table border=\"1\" class=\"dataframe\">\n",
       "  <thead>\n",
       "    <tr style=\"text-align: right;\">\n",
       "      <th></th>\n",
       "      <th>pred</th>\n",
       "      <th>count</th>\n",
       "    </tr>\n",
       "  </thead>\n",
       "  <tbody>\n",
       "    <tr>\n",
       "      <th>0</th>\n",
       "      <td>0</td>\n",
       "      <td>423</td>\n",
       "    </tr>\n",
       "    <tr>\n",
       "      <th>1</th>\n",
       "      <td>1</td>\n",
       "      <td>452</td>\n",
       "    </tr>\n",
       "  </tbody>\n",
       "</table>\n",
       "</div>"
      ],
      "text/plain": [
       "   pred  count\n",
       "0     0    423\n",
       "1     1    452"
      ]
     },
     "execution_count": 182,
     "metadata": {},
     "output_type": "execute_result"
    }
   ],
   "source": [
    "train_data.groupby('pred').size().reset_index(name='count').sort_values(by='pred')"
   ]
  },
  {
   "cell_type": "markdown",
   "metadata": {},
   "source": [
    "### 데이터 정제"
   ]
  },
  {
   "cell_type": "code",
   "execution_count": 183,
   "metadata": {},
   "outputs": [
    {
     "name": "stdout",
     "output_type": "stream",
     "text": [
      "875\n"
     ]
    },
    {
     "name": "stderr",
     "output_type": "stream",
     "text": [
      "/var/folders/ts/g7dt7hs11lvb1n__nmfls1hw0000gn/T/ipykernel_15431/1892574274.py:2: FutureWarning: A value is trying to be set on a copy of a DataFrame or Series through chained assignment using an inplace method.\n",
      "The behavior will change in pandas 3.0. This inplace method will never work because the intermediate object on which we are setting values always behaves as a copy.\n",
      "\n",
      "For example, when doing 'df[col].method(value, inplace=True)', try using 'df.method({col: value}, inplace=True)' or df[col] = df[col].method(value) instead, to perform the operation inplace on the original object.\n",
      "\n",
      "\n",
      "  train_data['review'].replace('', np.nan, inplace=True)\n"
     ]
    }
   ],
   "source": [
    "train_data['review'] = train_data['review'].str.replace('[^ㄱ-ㅎㅏ-ㅣ가-힣 ]','')\n",
    "train_data['review'].replace('', np.nan, inplace=True)\n",
    "print(len(train_data))"
   ]
  },
  {
   "cell_type": "code",
   "execution_count": 184,
   "metadata": {},
   "outputs": [
    {
     "name": "stdout",
     "output_type": "stream",
     "text": [
      "219\n"
     ]
    },
    {
     "name": "stderr",
     "output_type": "stream",
     "text": [
      "/var/folders/ts/g7dt7hs11lvb1n__nmfls1hw0000gn/T/ipykernel_15431/3028635424.py:2: FutureWarning: A value is trying to be set on a copy of a DataFrame or Series through chained assignment using an inplace method.\n",
      "The behavior will change in pandas 3.0. This inplace method will never work because the intermediate object on which we are setting values always behaves as a copy.\n",
      "\n",
      "For example, when doing 'df[col].method(value, inplace=True)', try using 'df.method({col: value}, inplace=True)' or df[col] = df[col].method(value) instead, to perform the operation inplace on the original object.\n",
      "\n",
      "\n",
      "  test_data['review'].replace('', np.nan, inplace=True)\n"
     ]
    }
   ],
   "source": [
    "test_data['review'] = test_data['review'].str.replace('[^ㄱ-ㅎㅏ-ㅣ가-힣 ]','')\n",
    "test_data['review'].replace('', np.nan, inplace=True)\n",
    "print(len(test_data))"
   ]
  },
  {
   "cell_type": "markdown",
   "metadata": {},
   "source": [
    "## 토큰화 및 불용어 제거 "
   ]
  },
  {
   "cell_type": "code",
   "execution_count": 185,
   "metadata": {},
   "outputs": [],
   "source": [
    "with open('/Users/Shared/최종선_교수님/Face_skin_disease/데이터 전처리/stopwords.txt', 'r', encoding='utf-8') as f:\n",
    "    lines = f.read().splitlines()\n",
    "    stopwords = [line.rstrip('\\n') for line in lines]"
   ]
  },
  {
   "cell_type": "code",
   "execution_count": 186,
   "metadata": {},
   "outputs": [
    {
     "name": "stdout",
     "output_type": "stream",
     "text": [
      "[('트위터', 'Noun'), ('기반', 'Noun'), ('분석', 'Noun'), ('기입', 'Noun'), ('니', 'Noun'), ('다', 'Josa'), ('.', 'Punctuation')]\n"
     ]
    }
   ],
   "source": [
    "from konlpy.tag import Okt\n",
    "okt = Okt()\n",
    "print(okt.pos(\"트위터 기반 분석기입니다.\"))"
   ]
  },
  {
   "cell_type": "code",
   "execution_count": 187,
   "metadata": {},
   "outputs": [],
   "source": [
    "train_data['review'] = train_data['review'].apply(okt.morphs)\n",
    "train_data['review'] = train_data['review'].apply(lambda x: [word for word in x if word not in stopwords])"
   ]
  },
  {
   "cell_type": "code",
   "execution_count": 188,
   "metadata": {},
   "outputs": [],
   "source": [
    "test_data['review'] = test_data['review'].apply(okt.morphs)\n",
    "test_data['review'] = test_data['review'].apply(lambda x: [word for word in x if word not in stopwords])"
   ]
  },
  {
   "cell_type": "code",
   "execution_count": null,
   "metadata": {},
   "outputs": [],
   "source": []
  },
  {
   "cell_type": "code",
   "execution_count": 189,
   "metadata": {},
   "outputs": [
    {
     "name": "stdout",
     "output_type": "stream",
     "text": [
      "(875,)\n",
      "(875,)\n",
      "(219,)\n",
      "(219,)\n"
     ]
    }
   ],
   "source": [
    "X_train = train_data['review'].values\n",
    "y_train = train_data['pred'].values\n",
    "X_test = test_data['review'].values\n",
    "y_test = test_data['pred'].values\n",
    " \n",
    "print(X_train.shape)\n",
    "print(y_train.shape)\n",
    "print(X_test.shape)\n",
    "print(y_test.shape)"
   ]
  },
  {
   "cell_type": "code",
   "execution_count": 190,
   "metadata": {},
   "outputs": [],
   "source": [
    "from tensorflow.keras.preprocessing.text import Tokenizer"
   ]
  },
  {
   "cell_type": "code",
   "execution_count": 191,
   "metadata": {},
   "outputs": [],
   "source": [
    "## 빈도 수가 낮은 단어 제거\n",
    "tokenizer = Tokenizer()\n",
    "tokenizer.fit_on_texts(X_train)"
   ]
  },
  {
   "cell_type": "code",
   "execution_count": 192,
   "metadata": {},
   "outputs": [
    {
     "name": "stdout",
     "output_type": "stream",
     "text": [
      "전체 단어 개수 : 5843\n",
      "빈도가 2 이하인 희귀 단어 수 : 4222\n",
      "희귀 단어 비율 : 72.25740201951054\n",
      "희귀 단어 등장 빈도 비율 : 14.732786258419365\n"
     ]
    }
   ],
   "source": [
    "threshold = 3\n",
    "words_cnt = len(tokenizer.word_index)\n",
    "rare_cnt = 0\n",
    "words_freq = 0  \n",
    "rare_freq = 0\n",
    "\n",
    "for key, value in tokenizer.word_counts.items():\n",
    "    words_freq = words_freq + value\n",
    "    if(value < threshold):\n",
    "        rare_cnt = rare_cnt + 1\n",
    "        rare_freq = rare_freq + value\n",
    "\n",
    "print('전체 단어 개수 :', words_cnt)\n",
    "print('빈도가 {} 이하인 희귀 단어 수 : {}'.format(threshold - 1, rare_cnt))\n",
    "print('희귀 단어 비율 : {}'.format((rare_cnt / words_cnt)*100))\n",
    "print('희귀 단어 등장 빈도 비율 : {}'.format((rare_freq / words_freq)*100))"
   ]
  },
  {
   "cell_type": "code",
   "execution_count": 193,
   "metadata": {},
   "outputs": [
    {
     "name": "stdout",
     "output_type": "stream",
     "text": [
      "단어 집합의 크기 : 1623\n"
     ]
    }
   ],
   "source": [
    "vocab_size = words_cnt - rare_cnt + 2 \n",
    "print('단어 집합의 크기 :', vocab_size)"
   ]
  },
  {
   "cell_type": "code",
   "execution_count": 194,
   "metadata": {},
   "outputs": [],
   "source": [
    "tokenizer = Tokenizer(vocab_size, oov_token = 'OOV')\n",
    "tokenizer.fit_on_texts(X_train)\n",
    "X_train = tokenizer.texts_to_sequences(X_train)\n",
    "X_test = tokenizer.texts_to_sequences(X_test)"
   ]
  },
  {
   "cell_type": "code",
   "execution_count": 195,
   "metadata": {},
   "outputs": [
    {
     "name": "stdout",
     "output_type": "stream",
     "text": [
      "[[1, 891, 91, 334, 7, 687, 1, 8, 479, 448, 776, 3, 1, 335, 9, 1, 1, 1, 1], [132, 151, 37, 777, 14, 248, 103, 2, 20, 6, 128, 16, 12], [249, 522, 3, 27, 2, 778, 53, 108, 226, 1, 1, 400, 3, 38, 1028, 144, 1028, 59, 176, 94, 892, 321, 1, 63, 893, 1, 1, 106, 3, 6, 618, 2, 227, 1, 272, 1, 1, 301, 57, 894, 1, 18, 28, 779, 195, 26, 421, 184, 30, 250, 422, 21, 4, 289, 58, 64, 568, 273, 81, 1029, 9, 1030, 115, 27]]\n",
      "[[22, 147, 80, 760, 7, 68, 31, 48, 1463, 1, 56, 57, 18, 894, 1, 10, 35, 3, 27, 266, 117, 1, 1, 1, 13, 301, 18, 1, 547, 13, 36, 70, 318, 680, 5, 76, 10, 186], [198, 1167, 21, 7, 9, 518, 69, 23, 98, 94, 5, 1], [3, 2, 81, 1055, 83, 1492, 1493, 13, 386, 3, 2, 1425, 1070, 179, 13, 745, 1, 1202, 65, 226, 25, 1481, 249, 44, 166, 52, 2, 410, 4, 289, 846, 1, 40, 93, 573, 10, 450, 372, 4, 142, 42, 1, 58, 29, 482, 979, 1, 16, 30, 58, 116, 103, 49, 57, 24, 1, 671, 237]]\n"
     ]
    }
   ],
   "source": [
    "print(X_train[:3])\n",
    "print(X_test[:3])"
   ]
  },
  {
   "cell_type": "markdown",
   "metadata": {},
   "source": [
    "### 패딩"
   ]
  },
  {
   "cell_type": "code",
   "execution_count": 196,
   "metadata": {},
   "outputs": [
    {
     "data": {
      "image/png": "[encoded data removed]",
      "text/plain": [
       "<Figure size 640x480 with 1 Axes>"
      ]
     },
     "metadata": {},
     "output_type": "display_data"
    }
   ],
   "source": [
    "import matplotlib.pyplot as plt\n",
    "plt.hist([len(s) for s in X_train], bins=50)\n",
    "plt.xlabel('length of samples')\n",
    "plt.ylabel('number of samples')\n",
    "plt.show()"
   ]
  },
  {
   "cell_type": "code",
   "execution_count": 197,
   "metadata": {},
   "outputs": [],
   "source": [
    "max_len = 60"
   ]
  },
  {
   "cell_type": "code",
   "execution_count": 198,
   "metadata": {},
   "outputs": [],
   "source": [
    "from tensorflow.keras.preprocessing.sequence import pad_sequences"
   ]
  },
  {
   "cell_type": "code",
   "execution_count": 199,
   "metadata": {},
   "outputs": [],
   "source": [
    "X_train = pad_sequences(X_train, maxlen = max_len)\n",
    "X_test = pad_sequences(X_test, maxlen = max_len)"
   ]
  },
  {
   "cell_type": "code",
   "execution_count": null,
   "metadata": {},
   "outputs": [],
   "source": []
  },
  {
   "cell_type": "markdown",
   "metadata": {},
   "source": [
    "### 모델 구축 및 학습"
   ]
  },
  {
   "cell_type": "code",
   "execution_count": 200,
   "metadata": {},
   "outputs": [],
   "source": [
    "from tensorflow.keras.models import Sequential, load_model\n",
    "from tensorflow.keras.layers import Embedding, Dense, GRU\n",
    "from tensorflow.keras.callbacks import EarlyStopping, ModelCheckpoint"
   ]
  },
  {
   "cell_type": "code",
   "execution_count": 201,
   "metadata": {},
   "outputs": [],
   "source": [
    "model = Sequential()\n",
    "model.add(Embedding(vocab_size, 100))\n",
    "model.add(GRU(128))\n",
    "model.add(Dense(1, activation='sigmoid'))"
   ]
  },
  {
   "cell_type": "code",
   "execution_count": 202,
   "metadata": {},
   "outputs": [],
   "source": [
    "es = EarlyStopping(monitor='val_loss', mode='min', verbose=1, patience=4)\n",
    "mc = ModelCheckpoint('best_model.h5', monitor='val_acc', mode='max', verbose=1, save_best_only=True)    "
   ]
  },
  {
   "cell_type": "code",
   "execution_count": 203,
   "metadata": {},
   "outputs": [
    {
     "name": "stdout",
     "output_type": "stream",
     "text": [
      "Epoch 1/30\n"
     ]
    },
    {
     "name": "stdout",
     "output_type": "stream",
     "text": [
      "\u001b[1m12/12\u001b[0m \u001b[32m━━━━━━━━━━━━━━━━━━━━\u001b[0m\u001b[37m\u001b[0m \u001b[1m0s\u001b[0m 52ms/step - acc: 0.4792 - loss: 0.6938\n",
      "Epoch 1: val_acc improved from -inf to 0.57714, saving model to best_model.h5\n"
     ]
    },
    {
     "name": "stderr",
     "output_type": "stream",
     "text": [
      "WARNING:absl:You are saving your model as an HDF5 file via `model.save()` or `keras.saving.save_model(model)`. This file format is considered legacy. We recommend using instead the native Keras format, e.g. `model.save('my_model.keras')` or `keras.saving.save_model(model, 'my_model.keras')`. \n"
     ]
    },
    {
     "name": "stdout",
     "output_type": "stream",
     "text": [
      "\u001b[1m12/12\u001b[0m \u001b[32m━━━━━━━━━━━━━━━━━━━━\u001b[0m\u001b[37m\u001b[0m \u001b[1m2s\u001b[0m 85ms/step - acc: 0.4802 - loss: 0.6937 - val_acc: 0.5771 - val_loss: 0.6881\n",
      "Epoch 2/30\n",
      "\u001b[1m11/12\u001b[0m \u001b[32m━━━━━━━━━━━━━━━━━━\u001b[0m\u001b[37m━━\u001b[0m \u001b[1m0s\u001b[0m 49ms/step - acc: 0.6294 - loss: 0.6859\n",
      "Epoch 2: val_acc did not improve from 0.57714\n",
      "\u001b[1m12/12\u001b[0m \u001b[32m━━━━━━━━━━━━━━━━━━━━\u001b[0m\u001b[37m\u001b[0m \u001b[1m1s\u001b[0m 56ms/step - acc: 0.6253 - loss: 0.6857 - val_acc: 0.5600 - val_loss: 0.6828\n",
      "Epoch 3/30\n",
      "\u001b[1m11/12\u001b[0m \u001b[32m━━━━━━━━━━━━━━━━━━\u001b[0m\u001b[37m━━\u001b[0m \u001b[1m0s\u001b[0m 52ms/step - acc: 0.6186 - loss: 0.6737\n",
      "Epoch 3: val_acc did not improve from 0.57714\n",
      "\u001b[1m12/12\u001b[0m \u001b[32m━━━━━━━━━━━━━━━━━━━━\u001b[0m\u001b[37m\u001b[0m \u001b[1m1s\u001b[0m 57ms/step - acc: 0.6223 - loss: 0.6729 - val_acc: 0.5543 - val_loss: 0.6751\n",
      "Epoch 4/30\n",
      "\u001b[1m11/12\u001b[0m \u001b[32m━━━━━━━━━━━━━━━━━━\u001b[0m\u001b[37m━━\u001b[0m \u001b[1m0s\u001b[0m 54ms/step - acc: 0.6618 - loss: 0.6385\n",
      "Epoch 4: val_acc improved from 0.57714 to 0.61714, saving model to best_model.h5\n"
     ]
    },
    {
     "name": "stderr",
     "output_type": "stream",
     "text": [
      "WARNING:absl:You are saving your model as an HDF5 file via `model.save()` or `keras.saving.save_model(model)`. This file format is considered legacy. We recommend using instead the native Keras format, e.g. `model.save('my_model.keras')` or `keras.saving.save_model(model, 'my_model.keras')`. \n"
     ]
    },
    {
     "name": "stdout",
     "output_type": "stream",
     "text": [
      "\u001b[1m12/12\u001b[0m \u001b[32m━━━━━━━━━━━━━━━━━━━━\u001b[0m\u001b[37m\u001b[0m \u001b[1m1s\u001b[0m 60ms/step - acc: 0.6655 - loss: 0.6366 - val_acc: 0.6171 - val_loss: 0.6613\n",
      "Epoch 5/30\n",
      "\u001b[1m11/12\u001b[0m \u001b[32m━━━━━━━━━━━━━━━━━━\u001b[0m\u001b[37m━━\u001b[0m \u001b[1m0s\u001b[0m 49ms/step - acc: 0.7675 - loss: 0.5427\n",
      "Epoch 5: val_acc did not improve from 0.61714\n",
      "\u001b[1m12/12\u001b[0m \u001b[32m━━━━━━━━━━━━━━━━━━━━\u001b[0m\u001b[37m\u001b[0m \u001b[1m1s\u001b[0m 55ms/step - acc: 0.7637 - loss: 0.5425 - val_acc: 0.6171 - val_loss: 0.6917\n",
      "Epoch 6/30\n",
      "\u001b[1m11/12\u001b[0m \u001b[32m━━━━━━━━━━━━━━━━━━\u001b[0m\u001b[37m━━\u001b[0m \u001b[1m0s\u001b[0m 50ms/step - acc: 0.7708 - loss: 0.5385\n",
      "Epoch 6: val_acc improved from 0.61714 to 0.64571, saving model to best_model.h5\n"
     ]
    },
    {
     "name": "stderr",
     "output_type": "stream",
     "text": [
      "WARNING:absl:You are saving your model as an HDF5 file via `model.save()` or `keras.saving.save_model(model)`. This file format is considered legacy. We recommend using instead the native Keras format, e.g. `model.save('my_model.keras')` or `keras.saving.save_model(model, 'my_model.keras')`. \n"
     ]
    },
    {
     "name": "stdout",
     "output_type": "stream",
     "text": [
      "\u001b[1m12/12\u001b[0m \u001b[32m━━━━━━━━━━━━━━━━━━━━\u001b[0m\u001b[37m\u001b[0m \u001b[1m1s\u001b[0m 56ms/step - acc: 0.7694 - loss: 0.5378 - val_acc: 0.6457 - val_loss: 0.6540\n",
      "Epoch 7/30\n",
      "\u001b[1m11/12\u001b[0m \u001b[32m━━━━━━━━━━━━━━━━━━\u001b[0m\u001b[37m━━\u001b[0m \u001b[1m0s\u001b[0m 52ms/step - acc: 0.8171 - loss: 0.4338\n",
      "Epoch 7: val_acc did not improve from 0.64571\n",
      "\u001b[1m12/12\u001b[0m \u001b[32m━━━━━━━━━━━━━━━━━━━━\u001b[0m\u001b[37m\u001b[0m \u001b[1m1s\u001b[0m 57ms/step - acc: 0.8165 - loss: 0.4327 - val_acc: 0.6114 - val_loss: 0.7034\n",
      "Epoch 8/30\n",
      "\u001b[1m12/12\u001b[0m \u001b[32m━━━━━━━━━━━━━━━━━━━━\u001b[0m\u001b[37m\u001b[0m \u001b[1m0s\u001b[0m 55ms/step - acc: 0.8569 - loss: 0.3563\n",
      "Epoch 8: val_acc did not improve from 0.64571\n",
      "\u001b[1m12/12\u001b[0m \u001b[32m━━━━━━━━━━━━━━━━━━━━\u001b[0m\u001b[37m\u001b[0m \u001b[1m1s\u001b[0m 66ms/step - acc: 0.8563 - loss: 0.3565 - val_acc: 0.6400 - val_loss: 0.7512\n",
      "Epoch 9/30\n",
      "\u001b[1m11/12\u001b[0m \u001b[32m━━━━━━━━━━━━━━━━━━\u001b[0m\u001b[37m━━\u001b[0m \u001b[1m0s\u001b[0m 52ms/step - acc: 0.8801 - loss: 0.2851\n",
      "Epoch 9: val_acc did not improve from 0.64571\n",
      "\u001b[1m12/12\u001b[0m \u001b[32m━━━━━━━━━━━━━━━━━━━━\u001b[0m\u001b[37m\u001b[0m \u001b[1m1s\u001b[0m 57ms/step - acc: 0.8792 - loss: 0.2872 - val_acc: 0.6171 - val_loss: 0.8279\n",
      "Epoch 10/30\n",
      "\u001b[1m11/12\u001b[0m \u001b[32m━━━━━━━━━━━━━━━━━━\u001b[0m\u001b[37m━━\u001b[0m \u001b[1m0s\u001b[0m 55ms/step - acc: 0.9048 - loss: 0.2396\n",
      "Epoch 10: val_acc did not improve from 0.64571\n",
      "\u001b[1m12/12\u001b[0m \u001b[32m━━━━━━━━━━━━━━━━━━━━\u001b[0m\u001b[37m\u001b[0m \u001b[1m1s\u001b[0m 60ms/step - acc: 0.9043 - loss: 0.2410 - val_acc: 0.6400 - val_loss: 0.8005\n",
      "Epoch 10: early stopping\n"
     ]
    }
   ],
   "source": [
    "model.compile(optimizer='rmsprop', loss='binary_crossentropy', metrics=['acc'])\n",
    "history = model.fit(X_train, y_train, epochs=30, callbacks=[es, mc], batch_size=60, validation_split=0.2)    \n"
   ]
  },
  {
   "cell_type": "code",
   "execution_count": 204,
   "metadata": {},
   "outputs": [
    {
     "name": "stderr",
     "output_type": "stream",
     "text": [
      "WARNING:absl:Compiled the loaded model, but the compiled metrics have yet to be built. `model.compile_metrics` will be empty until you train or evaluate the model.\n"
     ]
    },
    {
     "name": "stdout",
     "output_type": "stream",
     "text": [
      "\u001b[1m7/7\u001b[0m \u001b[32m━━━━━━━━━━━━━━━━━━━━\u001b[0m\u001b[37m\u001b[0m \u001b[1m0s\u001b[0m 9ms/step - acc: 0.6011 - loss: 0.6649  \n"
     ]
    },
    {
     "data": {
      "text/plain": [
       "[0.6548099517822266, 0.6164383292198181]"
      ]
     },
     "execution_count": 204,
     "metadata": {},
     "output_type": "execute_result"
    }
   ],
   "source": [
    "loaded_model = load_model('best_model.h5')\n",
    "loaded_model.evaluate(X_test, y_test)"
   ]
  },
  {
   "cell_type": "markdown",
   "metadata": {},
   "source": [
    "### 시각화"
   ]
  },
  {
   "cell_type": "code",
   "execution_count": 205,
   "metadata": {},
   "outputs": [
    {
     "data": {
      "image/png": "[encoded data removed]",
      "text/plain": [
       "<Figure size 640x480 with 1 Axes>"
      ]
     },
     "metadata": {},
     "output_type": "display_data"
    },
    {
     "data": {
      "image/png": "[encoded data removed]",
      "text/plain": [
       "<Figure size 640x480 with 1 Axes>"
      ]
     },
     "metadata": {},
     "output_type": "display_data"
    }
   ],
   "source": [
    "hist_dict = history.history\n",
    "loss = hist_dict['loss']\n",
    "val_loss = hist_dict['val_loss']\n",
    "acc = hist_dict['acc']\n",
    "val_acc = hist_dict['val_acc']\n",
    "\n",
    "plt.plot(loss, 'b--', label='Training loss')\n",
    "plt.plot(val_loss, 'r-', label='Validation loss')\n",
    "plt.legend()\n",
    "plt.grid()\n",
    "\n",
    "plt.figure()\n",
    "plt.plot(acc, 'b--', label='Training accuracy')\n",
    "plt.plot(val_acc, 'r:', label='Validation accuracy')\n",
    "plt.legend()\n",
    "plt.grid()\n",
    "plt.show()"
   ]
  },
  {
   "cell_type": "markdown",
   "metadata": {},
   "source": [
    "### 감정 예측 "
   ]
  },
  {
   "cell_type": "code",
   "execution_count": 206,
   "metadata": {},
   "outputs": [],
   "source": [
    "def sentiment_predict(new_sentence):\n",
    "    new_token = [word for word in okt.morphs(new_sentence) if not word in stopwords]\n",
    "    new_token = tokenizer.texts_to_sequences([new_token])\n",
    "    new_pad = pad_sequences(new_token, maxlen = max_len)\n",
    "    score = float(loaded_model.predict(new_pad))\n",
    "    if(score > 0.5):\n",
    "        print(\"{:.2f}% 확률로 긍정 리뷰입니다.\".format(score * 100))\n",
    "    else:\n",
    "        print(\"{:.2f}% 확률로 부정 리뷰입니다.\".format((1 - score) * 100))"
   ]
  },
  {
   "cell_type": "code",
   "execution_count": 223,
   "metadata": {},
   "outputs": [
    {
     "name": "stdout",
     "output_type": "stream",
     "text": [
      "\u001b[1m1/1\u001b[0m \u001b[32m━━━━━━━━━━━━━━━━━━━━\u001b[0m\u001b[37m\u001b[0m \u001b[1m0s\u001b[0m 26ms/step\n",
      "90.61% 확률로 긍정 리뷰입니다.\n",
      "\u001b[1m1/1\u001b[0m \u001b[32m━━━━━━━━━━━━━━━━━━━━\u001b[0m\u001b[37m\u001b[0m \u001b[1m0s\u001b[0m 22ms/step\n",
      "70.15% 확률로 부정 리뷰입니다.\n",
      "\u001b[1m1/1\u001b[0m \u001b[32m━━━━━━━━━━━━━━━━━━━━\u001b[0m\u001b[37m\u001b[0m \u001b[1m0s\u001b[0m 21ms/step\n",
      "65.91% 확률로 긍정 리뷰입니다.\n"
     ]
    },
    {
     "name": "stderr",
     "output_type": "stream",
     "text": [
      "/var/folders/ts/g7dt7hs11lvb1n__nmfls1hw0000gn/T/ipykernel_15431/2119900483.py:5: DeprecationWarning: Conversion of an array with ndim > 0 to a scalar is deprecated, and will error in future. Ensure you extract a single element from your array before performing this operation. (Deprecated NumPy 1.25.)\n",
      "  score = float(loaded_model.predict(new_pad))\n"
     ]
    }
   ],
   "source": [
    "sentiment_predict('싫어요')\n",
    "sentiment_predict('이건 정말 리뷰 쓰는게 아깝네요 보지마세요')\n",
    "sentiment_predict('처음 써봤는데 정말 재미있어요. 강력 추천합니다. 꼭 사용해보세요')"
   ]
  },
  {
   "cell_type": "code",
   "execution_count": 226,
   "metadata": {},
   "outputs": [
    {
     "name": "stdout",
     "output_type": "stream",
     "text": [
      "\u001b[1m1/1\u001b[0m \u001b[32m━━━━━━━━━━━━━━━━━━━━\u001b[0m\u001b[37m\u001b[0m \u001b[1m0s\u001b[0m 23ms/step\n",
      "76.74% 확률로 긍정 리뷰입니다.\n"
     ]
    },
    {
     "name": "stderr",
     "output_type": "stream",
     "text": [
      "/var/folders/ts/g7dt7hs11lvb1n__nmfls1hw0000gn/T/ipykernel_15431/2119900483.py:5: DeprecationWarning: Conversion of an array with ndim > 0 to a scalar is deprecated, and will error in future. Ensure you extract a single element from your array before performing this operation. (Deprecated NumPy 1.25.)\n",
      "  score = float(loaded_model.predict(new_pad))\n"
     ]
    }
   ],
   "source": [
    "sentiment_predict('이건 정말 쓰레기에요')"
   ]
  }
 ],
 "metadata": {
  "kernelspec": {
   "display_name": "Python 3",
   "language": "python",
   "name": "python3"
  },
  "language_info": {
   "codemirror_mode": {
    "name": "ipython",
    "version": 3
   },
   "file_extension": ".py",
   "mimetype": "text/x-python",
   "name": "python",
   "nbconvert_exporter": "python",
   "pygments_lexer": "ipython3",
   "version": "3.12.8"
  }
 },
 "nbformat": 4,
 "nbformat_minor": 2
}
