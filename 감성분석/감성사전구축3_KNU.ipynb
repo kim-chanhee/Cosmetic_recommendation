{
 "cells": [
  {
   "cell_type": "code",
   "execution_count": 2,
   "metadata": {},
   "outputs": [
    {
     "name": "stdout",
     "output_type": "stream",
     "text": [
      "Ready.\n"
     ]
    }
   ],
   "source": [
    "# === A. 기본 임포트 & 공통 설정 ===\n",
    "import os, re, random\n",
    "import numpy as np\n",
    "import pandas as pd\n",
    "from dataclasses import dataclass\n",
    "from typing import List, Tuple, Dict, Any\n",
    "\n",
    "# ML\n",
    "from sklearn.model_selection import StratifiedKFold\n",
    "from sklearn.feature_extraction.text import TfidfVectorizer\n",
    "from sklearn.linear_model import LogisticRegression\n",
    "from sklearn.metrics import (\n",
    "    classification_report, accuracy_score, f1_score,\n",
    "    roc_auc_score, average_precision_score,\n",
    "    precision_recall_curve, confusion_matrix, roc_curve, auc\n",
    ")\n",
    "\n",
    "SEED = 42\n",
    "random.seed(SEED); np.random.seed(SEED)\n",
    "pd.set_option(\"display.max_colwidth\", 200)\n",
    "pd.set_option(\"display.width\", 160)\n",
    "print(\"Ready.\")\n"
   ]
  },
  {
   "cell_type": "code",
   "execution_count": null,
   "metadata": {},
   "outputs": [],
   "source": []
  },
  {
   "cell_type": "code",
   "execution_count": 3,
   "metadata": {},
   "outputs": [
    {
     "name": "stdout",
     "output_type": "stream",
     "text": [
      "Config set.\n"
     ]
    }
   ],
   "source": [
    "# === B. 경로/환경 설정 (여기만 내 경로로 수정) ===\n",
    "DATA_PATH = \"/Users/Shared/최종선_교수님/Face_skin_disease/데이터 전처리/피부 질환 화장품 데이터/여드름_스킨케어/크림/Ntoken_review.csv\"                 # 리뷰 CSV (review, label 또는 rating)\n",
    "POS_PATH  = \"./combined_pos_words.txt\"           # 긍정 단어 txt\n",
    "NEG_PATH  = \"./combined_neg_words.txt\"           # 부정 단어 txt\n",
    "\n",
    "TEXT_COL  = \"review\"\n",
    "LABEL_COL = \"label\"   # 없으면 rating으로 이진화(>=4 → 0, <=3 → 1)\n",
    "MAX_N     = 3\n",
    "\n",
    "OUT_DIR = \"./outputs\"\n",
    "os.makedirs(OUT_DIR, exist_ok=True)\n",
    "print(\"Config set.\")\n"
   ]
  },
  {
   "cell_type": "code",
   "execution_count": 4,
   "metadata": {},
   "outputs": [
    {
     "name": "stdout",
     "output_type": "stream",
     "text": [
      "완전 좋아욬ㅋㅋㅠㅠ\n"
     ]
    }
   ],
   "source": [
    "# === C. 텍스트 정규화 ===\n",
    "EMOJI_PATTERN = re.compile(\n",
    "    \"[\\U0001F600-\\U0001F64F\\U0001F300-\\U0001F5FF\"\n",
    "    \"\\U0001F680-\\U0001F6FF\\U0001F1E0-\\U0001F1FF]+\", flags=re.UNICODE)\n",
    "URL_PATTERN = re.compile(r\"(http[s]?://\\S+|www\\.\\S+)\")\n",
    "MENTION_PATTERN = re.compile(r\"@[A-Za-z0-9_]+\")\n",
    "HASHTAG_PATTERN = re.compile(r\"#[^\\s#]+\")\n",
    "\n",
    "def normalize_text(s: str) -> str:\n",
    "    if not isinstance(s, str):\n",
    "        s = str(s) if s is not None else \"\"\n",
    "    s = s.lower().strip()\n",
    "    s = URL_PATTERN.sub(\" \", s)\n",
    "    s = MENTION_PATTERN.sub(\" \", s)\n",
    "    s = HASHTAG_PATTERN.sub(\" \", s)\n",
    "    s = EMOJI_PATTERN.sub(\" \", s)\n",
    "    s = re.sub(r\"(.)\\1{2,}\", r\"\\1\\1\", s)                 # 반복문자 축약\n",
    "    s = re.sub(r\"[^0-9a-zA-Z가-힣ㄱ-ㅎㅏ-ㅣ\\s\\.\\,\\!\\?\\%]\", \" \", s)\n",
    "    s = re.sub(r\"\\s+\", \" \", s).strip()\n",
    "    return s\n",
    "\n",
    "print(normalize_text(\"👍완전~~~좋아욬ㅋㅋㅋㅠㅠ www.site.com #보습\"))\n"
   ]
  },
  {
   "cell_type": "code",
   "execution_count": 5,
   "metadata": {},
   "outputs": [
    {
     "name": "stderr",
     "output_type": "stream",
     "text": [
      "WARNING: A restricted method in java.lang.System has been called\n",
      "WARNING: java.lang.System::load has been called by org.jpype.JPypeContext in an unnamed module (file:/Library/Frameworks/Python.framework/Versions/3.12/lib/python3.12/site-packages/org.jpype.jar)\n",
      "WARNING: Use --enable-native-access=ALL-UNNAMED to avoid a warning for callers in this module\n",
      "WARNING: Restricted methods will be blocked in a future release unless native access is enabled\n",
      "\n"
     ]
    },
    {
     "name": "stdout",
     "output_type": "stream",
     "text": [
      "Tokenizer: Komoran\n"
     ]
    }
   ],
   "source": [
    "# === D. 토크나이저 (Komoran 되면 사용, 실패 시 간이 토크나이저) ===\n",
    "try:\n",
    "    from konlpy.tag import Komoran\n",
    "    _komoran = Komoran(userdic=None)\n",
    "    def tokenize(sent: str) -> List[str]:\n",
    "        morphs = _komoran.pos(sent, flatten=True)\n",
    "        out = []\n",
    "        for w, p in morphs:\n",
    "            if p.startswith((\"NN\",\"VV\",\"VA\")) or p in (\"MAG\",\"MAJ\"):\n",
    "                out.append(w)\n",
    "        return out if out else sent.split()\n",
    "    print(\"Tokenizer: Komoran\")\n",
    "except Exception as e:\n",
    "    print(\"Tokenizer: fallback(simple). Reason:\", e)\n",
    "    def tokenize(sent: str) -> List[str]:\n",
    "        sent = re.sub(r\"[^0-9a-zA-Z가-힣\\s]\", \" \", sent)\n",
    "        sent = re.sub(r\"\\s+\", \" \", sent).strip()\n",
    "        return sent.split()\n"
   ]
  },
  {
   "cell_type": "code",
   "execution_count": 6,
   "metadata": {},
   "outputs": [
    {
     "name": "stdout",
     "output_type": "stream",
     "text": [
      "Lexicon size: 9687\n"
     ]
    }
   ],
   "source": [
    "# === E. TXT 사전 로드 (긍정/부정 단어 목록 → 가중치 사전) ===\n",
    "def load_txt_lexicon(pos_path: str, neg_path: str) -> Dict[Tuple[str, ...], float]:\n",
    "    lex = {}\n",
    "    # 긍정\n",
    "    if os.path.exists(pos_path):\n",
    "        with open(pos_path, encoding=\"utf-8\") as f:\n",
    "            for line in f:\n",
    "                w = line.strip()\n",
    "                if not w: continue\n",
    "                toks = tuple(tokenize(w))\n",
    "                if toks:\n",
    "                    lex[toks] = 1.0\n",
    "    else:\n",
    "        print(f\"[WARN] not found: {pos_path}\")\n",
    "    # 부정\n",
    "    if os.path.exists(neg_path):\n",
    "        with open(neg_path, encoding=\"utf-8\") as f:\n",
    "            for line in f:\n",
    "                w = line.strip()\n",
    "                if not w: continue\n",
    "                toks = tuple(tokenize(w))\n",
    "                if toks:\n",
    "                    lex[toks] = -1.0\n",
    "    else:\n",
    "        print(f\"[WARN] not found: {neg_path}\")\n",
    "    return lex\n",
    "\n",
    "lexicon = load_txt_lexicon(POS_PATH, NEG_PATH)\n",
    "print(\"Lexicon size:\", len(lexicon))\n"
   ]
  },
  {
   "cell_type": "code",
   "execution_count": 7,
   "metadata": {},
   "outputs": [],
   "source": [
    "# === F. 동의어/이형태 정규화 (선택) ===\n",
    "SYN_MAP = {\n",
    "    \"흡수해요\":\"흡수\",\"스며들어\":\"흡수\",\"스며듦\":\"흡수\",\n",
    "    \"따갑\":\"자극\",\"촉촉\":\"보습\",\"건조함\":\"건조\"\n",
    "}\n",
    "def apply_syn_map(tokens: List[str]) -> List[str]:\n",
    "    return [SYN_MAP.get(t, t) for t in tokens]\n"
   ]
  },
  {
   "cell_type": "code",
   "execution_count": 8,
   "metadata": {},
   "outputs": [
    {
     "name": "stdout",
     "output_type": "stream",
     "text": [
      "ngram index ready.\n"
     ]
    }
   ],
   "source": [
    "# === G. n-gram 인덱스 & 최장일치 ===\n",
    "def build_ngram_index(lex: Dict[Tuple[str, ...], float], max_n=3):\n",
    "    idx = {n: {} for n in range(1, max_n+1)}\n",
    "    for ngram, w in lex.items():\n",
    "        n = min(len(ngram), max_n)\n",
    "        idx[n][ngram] = w\n",
    "    return idx\n",
    "\n",
    "def greedy_longest_match(tokens: List[str], ngram_index, max_n=3):\n",
    "    i, L = 0, len(tokens)\n",
    "    matches = []\n",
    "    while i < L:\n",
    "        found = None\n",
    "        for n in range(min(max_n, L - i), 0, -1):\n",
    "            cand = tuple(tokens[i:i+n])\n",
    "            if cand in ngram_index[n]:\n",
    "                found = (i, i+n, cand, ngram_index[n][cand])\n",
    "                break\n",
    "        if found:\n",
    "            matches.append(found)\n",
    "            i = found[1]\n",
    "        else:\n",
    "            i += 1\n",
    "    return matches\n",
    "\n",
    "ng_idx = build_ngram_index(lexicon, MAX_N)\n",
    "print(\"ngram index ready.\")\n"
   ]
  },
  {
   "cell_type": "code",
   "execution_count": 9,
   "metadata": {},
   "outputs": [],
   "source": [
    "# === H. 부정어/강도부사 룰(최종 점수에만 후처리) ===\n",
    "NEGATIONS = {\"안\",\"못\",\"별로\",\"그다지\",\"전혀\",\"아니\",\"않\"}\n",
    "INT_POS  = {\"매우\",\"진짜\",\"정말\",\"완전\",\"엄청\",\"굉장히\"}\n",
    "INT_NEG  = {\"약간\",\"조금\",\"그냥\"}\n",
    "\n",
    "def adjust_by_rules(tokens: List[str], score: float) -> float:\n",
    "    # 부정어가 문장에 존재하고 점수가 양수면 살짝 반전\n",
    "    if any(t in NEGATIONS for t in tokens):\n",
    "        score = -score if score > 0 else score\n",
    "    # 강도부사 보정\n",
    "    if any(t in INT_POS for t in tokens):\n",
    "        score *= 1.15\n",
    "    if any(t in INT_NEG for t in tokens):\n",
    "        score *= 0.9\n",
    "    return score\n"
   ]
  },
  {
   "cell_type": "code",
   "execution_count": 10,
   "metadata": {},
   "outputs": [],
   "source": [
    "# === I. 규칙 기반 스코어/라벨 ===\n",
    "def score_by_lexicon(tokens: List[str], ngram_index, max_n=3) -> float:\n",
    "    toks = apply_syn_map(tokens)\n",
    "    matches = greedy_longest_match(toks, ngram_index, max_n=max_n)\n",
    "    total = 0.0\n",
    "    for (s,e,ng,w) in matches:\n",
    "        total += w\n",
    "    total = adjust_by_rules(toks, total)   # 최소 변경: 최종 점수만 보정\n",
    "    return float(total)\n",
    "\n",
    "def predict_lexicon(df: pd.DataFrame, text_col: str, ngram_index, max_n=3):\n",
    "    scores, labels = [], []\n",
    "    for s in df[text_col].fillna(\"\").astype(str).tolist():\n",
    "        toks = tokenize(normalize_text(s))\n",
    "        sc = score_by_lexicon(toks, ngram_index, max_n=max_n)\n",
    "        scores.append(sc)\n",
    "        labels.append(0 if sc > 0 else 1)\n",
    "    return np.array(scores), np.array(labels)\n"
   ]
  },
  {
   "cell_type": "code",
   "execution_count": 11,
   "metadata": {},
   "outputs": [],
   "source": [
    "# === J. 평가지표 & 임계값 튜닝 ===\n",
    "def print_report(y_true, y_pred, y_prob=None, title=\"Report\"):\n",
    "    print(f\"\\n== {title} ==\")\n",
    "    print(classification_report(y_true, y_pred, digits=4, target_names=[\"pos\",\"neg\"]))\n",
    "    if y_prob is not None:\n",
    "        try:\n",
    "            print(\"PR-AUC :\", average_precision_score(y_true, y_prob))\n",
    "            print(\"ROC-AUC:\", roc_auc_score(y_true, y_prob))\n",
    "        except Exception as e:\n",
    "            print(\"AUC calc skipped:\", e)\n",
    "\n",
    "def find_best_threshold(y_true, y_prob):\n",
    "    p, r, th = precision_recall_curve(y_true, y_prob)\n",
    "    f1s = (2*p*r/(p+r+1e-12))[:-1]\n",
    "    if len(th) == 0:\n",
    "        return 0.5\n",
    "    return float(th[f1s.argmax()])\n"
   ]
  },
  {
   "cell_type": "code",
   "execution_count": 12,
   "metadata": {},
   "outputs": [
    {
     "name": "stdout",
     "output_type": "stream",
     "text": [
      "\n",
      "== Lexicon-Rule ==\n",
      "              precision    recall  f1-score   support\n",
      "\n",
      "         pos     0.9642    0.0587    0.1107     11017\n",
      "         neg     0.0678    0.9692    0.1267       778\n",
      "\n",
      "    accuracy                         0.1188     11795\n",
      "   macro avg     0.5160    0.5139    0.1187     11795\n",
      "weighted avg     0.9051    0.1188    0.1118     11795\n",
      "\n",
      "[Fold 1] F1: 0.3687150837988827\n",
      "[Fold 2] F1: 0.3516483516483517\n",
      "[Fold 3] F1: 0.41304347826086957\n",
      "[Fold 4] F1: 0.43360433604336046\n",
      "[Fold 5] F1: 0.38605898123324395\n",
      "\n",
      "== ML Baseline ==\n",
      "              precision    recall  f1-score   support\n",
      "\n",
      "         pos     0.9609    0.9368    0.9487     11017\n",
      "         neg     0.3397    0.4602    0.3908       778\n",
      "\n",
      "    accuracy                         0.9054     11795\n",
      "   macro avg     0.6503    0.6985    0.6698     11795\n",
      "weighted avg     0.9199    0.9054    0.9119     11795\n",
      "\n",
      "PR-AUC : 0.3450888517297276\n",
      "ROC-AUC: 0.8479402479878608\n"
     ]
    }
   ],
   "source": [
    "# === K. 실행: 데이터 로드 및 전체 파이프라인 ===\n",
    "assert os.path.exists(DATA_PATH), f\"DATA_PATH not found: {DATA_PATH}\"\n",
    "df = pd.read_csv(DATA_PATH)\n",
    "\n",
    "# 라벨 생성: label > rating(>=4)\n",
    "if LABEL_COL in df.columns:\n",
    "    y = df[LABEL_COL].astype(int).values\n",
    "elif \"rating\" in df.columns:\n",
    "    y = (df[\"rating\"].astype(float) < 4).astype(int).values\n",
    "else:\n",
    "    raise ValueError(\"라벨 컬럼(LABEL_COL) 또는 rating 컬럼이 필요합니다.\")\n",
    "\n",
    "# 규칙 기반\n",
    "lex_scores, lex_labels = predict_lexicon(df, TEXT_COL, ng_idx, max_n=MAX_N)\n",
    "print_report(y, lex_labels, title=\"Lexicon-Rule\")\n",
    "\n",
    "# ML Baseline (TF-IDF + LogisticRegression, 불균형 보정 1줄)\n",
    "X_text = df[TEXT_COL].fillna(\"\").astype(str).map(normalize_text).tolist()\n",
    "vect = TfidfVectorizer(analyzer=\"word\", ngram_range=(1,2), min_df=3, max_features=100_000)\n",
    "Xv = vect.fit_transform(X_text)\n",
    "\n",
    "skf = StratifiedKFold(n_splits=5, shuffle=True, random_state=SEED)\n",
    "ml_preds = np.zeros_like(y)\n",
    "ml_probs = np.zeros(len(y), dtype=float)\n",
    "\n",
    "for fold, (tr, va) in enumerate(skf.split(Xv, y), 1):\n",
    "    clf = LogisticRegression(max_iter=500, class_weight=\"balanced\", solver=\"liblinear\")\n",
    "    clf.fit(Xv[tr], y[tr])\n",
    "    p = clf.predict_proba(Xv[va])[:, 1]\n",
    "    ml_probs[va] = p\n",
    "    ml_preds[va] = (p >= 0.5).astype(int)\n",
    "    print(f\"[Fold {fold}] F1:\", f1_score(y[va], ml_preds[va]))\n",
    "\n",
    "print_report(y, ml_preds, ml_probs, title=\"ML Baseline\")\n"
   ]
  },
  {
   "cell_type": "code",
   "execution_count": 13,
   "metadata": {},
   "outputs": [
    {
     "name": "stdout",
     "output_type": "stream",
     "text": [
      "Saved: ./outputs/predictions.csv\n",
      "Saved errors CSVs.\n"
     ]
    }
   ],
   "source": [
    "# === L. 결과 저장 (예측/리포트/에러케이스) ===\n",
    "df_out = df.copy()\n",
    "df_out[\"lex_score\"] = lex_scores\n",
    "df_out[\"lex_pred\"]  = lex_labels\n",
    "df_out[\"ml_pred\"]   = ml_preds\n",
    "pred_path = os.path.join(OUT_DIR, \"predictions.csv\")\n",
    "df_out.to_csv(pred_path, index=False, encoding=\"utf-8-sig\")\n",
    "print(\"Saved:\", pred_path)\n",
    "\n",
    "# 에러 케이스 top-20 (규칙/ML)\n",
    "wrong_lex = np.where(y != lex_labels)[0]\n",
    "wrong_ml  = np.where(y != ml_preds)[0]\n",
    "df.iloc[wrong_lex].head(20).to_csv(os.path.join(OUT_DIR, \"errors_lexicon_top20.csv\"), index=False, encoding=\"utf-8-sig\")\n",
    "df.iloc[wrong_ml ].head(20).to_csv(os.path.join(OUT_DIR, \"errors_ml_top20.csv\"), index=False, encoding=\"utf-8-sig\")\n",
    "print(\"Saved errors CSVs.\")\n"
   ]
  },
  {
   "cell_type": "code",
   "execution_count": 16,
   "metadata": {},
   "outputs": [
    {
     "data": {
      "image/png": "[encoded data removed]",
      "text/plain": [
       "<Figure size 400x300 with 1 Axes>"
      ]
     },
     "metadata": {},
     "output_type": "display_data"
    },
    {
     "data": {
      "image/png": "[encoded data removed]",
      "text/plain": [
       "<Figure size 320x300 with 1 Axes>"
      ]
     },
     "metadata": {},
     "output_type": "display_data"
    },
    {
     "data": {
      "image/png": "[encoded data removed]",
      "text/plain": [
       "<Figure size 320x300 with 1 Axes>"
      ]
     },
     "metadata": {},
     "output_type": "display_data"
    },
    {
     "data": {
      "image/png": "[encoded data removed]",
      "text/plain": [
       "<Figure size 400x300 with 1 Axes>"
      ]
     },
     "metadata": {},
     "output_type": "display_data"
    },
    {
     "data": {
      "image/png": "[encoded data removed]",
      "text/plain": [
       "<Figure size 400x300 with 1 Axes>"
      ]
     },
     "metadata": {},
     "output_type": "display_data"
    }
   ],
   "source": [
    "# === M. 시각화 (선택) ===\n",
    "import matplotlib.pyplot as plt\n",
    "try:\n",
    "    import seaborn as sns\n",
    "    sns.set(style=\"whitegrid\")\n",
    "    use_sns = True\n",
    "except:\n",
    "    use_sns = False\n",
    "\n",
    "# 라벨 분포\n",
    "plt.figure(figsize=(4,3))\n",
    "vals, cnts = np.unique(y, return_counts=True)\n",
    "if use_sns: sns.barplot(x=vals, y=cnts)\n",
    "else: plt.bar(vals, cnts)\n",
    "plt.title(\"Label distribution (0=pos, 1=neg)\")\n",
    "plt.xlabel(\"label\"); plt.ylabel(\"count\")\n",
    "plt.tight_layout(); plt.savefig(os.path.join(OUT_DIR, \"viz_label_distribution.png\"), dpi=180); plt.show()\n",
    "\n",
    "# 혼동행렬\n",
    "def plot_cm(y_true, y_pred, title, fname):\n",
    "    cm = confusion_matrix(y_true, y_pred, labels=[0,1])\n",
    "    plt.figure(figsize=(3.2,3))\n",
    "    if use_sns:\n",
    "        sns.heatmap(cm, annot=True, fmt=\"d\", cbar=False, xticklabels=[\"pos\",\"neg\"], yticklabels=[\"pos\",\"neg\"])\n",
    "    else:\n",
    "        plt.imshow(cm, cmap=\"Blues\")\n",
    "        for (i,j), v in np.ndenumerate(cm): plt.text(j, i, str(v), ha='center', va='center')\n",
    "        plt.xticks([0,1], [\"pos\",\"neg\"]); plt.yticks([0,1], [\"pos\",\"neg\"])\n",
    "    plt.title(title); plt.xlabel(\"Predicted\"); plt.ylabel(\"True\")\n",
    "    plt.tight_layout(); plt.savefig(os.path.join(OUT_DIR, fname), dpi=180); plt.show()\n",
    "\n",
    "# 아래 라인이 삭제되었습니다.\n",
    "plot_cm(y, lex_labels, \"CM (Lexicon)\", \"cm_lexicon.png\")\n",
    "plot_cm(y, ml_preds,  \"CM (ML)\",      \"cm_ml.png\")\n",
    "\n",
    "# ROC/PR (ML)\n",
    "fpr, tpr, _ = roc_curve(y, ml_probs)\n",
    "roc_auc = auc(fpr, tpr)\n",
    "plt.figure(figsize=(4,3))\n",
    "plt.plot(fpr, tpr, label=f\"AUC={roc_auc:.3f}\"); plt.plot([0,1],[0,1],'--')\n",
    "plt.xlabel(\"FPR\"); plt.ylabel(\"TPR\"); plt.title(\"ROC (ML)\"); plt.legend()\n",
    "plt.tight_layout(); plt.savefig(os.path.join(OUT_DIR, \"roc_ml.png\"), dpi=180); plt.show()\n",
    "\n",
    "p, r, _ = precision_recall_curve(y, ml_probs)\n",
    "pr_auc = auc(r, p)\n",
    "plt.figure(figsize=(4,3))\n",
    "plt.plot(r, p, label=f\"AP={pr_auc:.3f}\")\n",
    "plt.xlabel(\"Recall\"); plt.ylabel(\"Precision\"); plt.title(\"PR (ML)\"); plt.legend()\n",
    "plt.tight_layout(); plt.savefig(os.path.join(OUT_DIR, \"pr_ml.png\"), dpi=180); plt.show()"
   ]
  },
  {
   "cell_type": "code",
   "execution_count": 15,
   "metadata": {},
   "outputs": [
    {
     "name": "stdout",
     "output_type": "stream",
     "text": [
      "✅ 결과가 senti_labeled_df.csv에 저장되었습니다!\n"
     ]
    }
   ],
   "source": [
    "# === N. 요청 포맷 저장: senti_labeled_df.csv ===\n",
    "from ast import literal_eval\n",
    "\n",
    "def _to_token_list(val, fallback_text=None):\n",
    "    if isinstance(val, str):\n",
    "        try:\n",
    "            obj = literal_eval(val)\n",
    "        except Exception:\n",
    "            obj = None\n",
    "    else:\n",
    "        obj = val\n",
    "    if isinstance(obj, list):\n",
    "        if len(obj) > 0 and isinstance(obj[0], tuple):  # [('형태소','품사'), ...]\n",
    "            return [t[0] for t in obj]\n",
    "        return list(obj)\n",
    "    if fallback_text is not None:\n",
    "        return tokenize(normalize_text(str(fallback_text)))\n",
    "    return []\n",
    "\n",
    "# sen (토큰 리스트)\n",
    "sen_list = []\n",
    "if \"tokens\" in df.columns:\n",
    "    for i, row in df.iterrows():\n",
    "        sen_list.append(_to_token_list(row[\"tokens\"], row.get(TEXT_COL, \"\")))\n",
    "else:\n",
    "    for txt in df[TEXT_COL].fillna(\"\").astype(str):\n",
    "        sen_list.append(tokenize(normalize_text(txt)))\n",
    "\n",
    "# pos_neg (정답: label > 기존 pos_neg > rating)\n",
    "if \"pos_neg\" in df.columns:\n",
    "    pos_neg = df[\"pos_neg\"].astype(int).tolist()\n",
    "elif \"label\" in df.columns:\n",
    "    pos_neg = df[\"label\"].astype(int).tolist()\n",
    "elif \"rating\" in df.columns:\n",
    "    pos_neg = (df[\"rating\"].astype(float) >= 4).astype(int).tolist()\n",
    "else:\n",
    "    pos_neg = [0]*len(df)\n",
    "\n",
    "# sen2 (동의어 정규화 후 문자열)\n",
    "try:\n",
    "    sen2 = [\" \".join(apply_syn_map(s)) for s in sen_list]\n",
    "except Exception:\n",
    "    sen2 = [\" \".join(s) for s in sen_list]\n",
    "\n",
    "# senti_score / pred\n",
    "senti_score = lex_scores.tolist()\n",
    "# pred는 기존 df에 'pred' 있으면 그걸 우선, 없으면 규칙기반 라벨 사용\n",
    "pred = df[\"pred\"].astype(int).tolist() if \"pred\" in df.columns else lex_labels.astype(int).tolist()\n",
    "\n",
    "test_sent = pd.DataFrame({\n",
    "    \"sen\": sen_list,\n",
    "    \"pos_neg\": pos_neg,\n",
    "    \"sen2\": sen2,\n",
    "    \"senti_score\": senti_score,\n",
    "    \"pred\": pred\n",
    "})\n",
    "save_path = \"senti_labeled_df.csv\"\n",
    "test_sent.to_csv(save_path, index=False, columns=[\"sen\",\"pos_neg\",\"sen2\",\"senti_score\",\"pred\"])\n",
    "print(f\"✅ 결과가 {save_path}에 저장되었습니다!\")\n"
   ]
  },
  {
   "cell_type": "code",
   "execution_count": null,
   "metadata": {},
   "outputs": [],
   "source": []
  }
 ],
 "metadata": {
  "kernelspec": {
   "display_name": "Python 3",
   "language": "python",
   "name": "python3"
  },
  "language_info": {
   "codemirror_mode": {
    "name": "ipython",
    "version": 3
   },
   "file_extension": ".py",
   "mimetype": "text/x-python",
   "name": "python",
   "nbconvert_exporter": "python",
   "pygments_lexer": "ipython3",
   "version": "3.12.8"
  }
 },
 "nbformat": 4,
 "nbformat_minor": 2
}
